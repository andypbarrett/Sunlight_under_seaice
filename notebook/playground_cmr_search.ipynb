{
 "cells": [
  {
   "cell_type": "code",
   "execution_count": 1,
   "metadata": {},
   "outputs": [],
   "source": [
    "import sys\n",
    "sys.path.append(\"/home/apbarret/src/SunlightUnderSeaIce/sunderseaice\")  # Allow import of modules for sunderseaice\n",
    "sys.path.append(\"/home/apbarret/src/nsidc_projections/nsidc_projections\")\n",
    "\n",
    "import os\n",
    "import datetime as dt\n",
    "import warnings\n",
    "from pathlib import Path\n",
    "\n",
    "import numpy as np\n",
    "import pandas as pd\n",
    "import geopandas as gpd\n",
    "from shapely.geometry import Point, LinearRing, Polygon\n",
    "from shapely.geometry.polygon import orient\n",
    "from pyproj import Transformer\n",
    "\n",
    "import cartopy.crs as ccrs\n",
    "import cartopy.feature as cfeature\n",
    "import matplotlib.pyplot as plt\n",
    "\n",
    "import h5py\n",
    "import xarray as xr\n",
    "\n",
    "import download.nsidc_download as cmr\n",
    "from download.icesat2_search import read_polarstern_track, select_midday, POLARSTERN_TRACK_FILE\n",
    "from grid import SSMI_PolarStereoNorth25km \n",
    "\n",
    "DATAPATH = '/home/apbarret/src/SunlightUnderSeaIce/data'\n",
    "\n",
    "with warnings.catch_warnings():\n",
    "    warnings.filterwarnings(\"ignore\")\n",
    "    map_proj = SSMI_PolarStereoNorth25km.to_cartopy()\n",
    "map_extent = [-2349878.8355433852, 2349878.8355433857, -2349878.8355433852, 2349878.8355433857]"
   ]
  },
  {
   "cell_type": "code",
   "execution_count": 13,
   "metadata": {},
   "outputs": [
    {
     "name": "stdout",
     "output_type": "stream",
     "text": [
      "Querying for data:\n",
      "\thttps://cmr.earthdata.nasa.gov/search/granules.json?provider=NSIDC_ECS&sort_key[]=start_date&sort_key[]=producer_granule_id&scroll=true&page_size=2000&short_name=ATL03&version=004&version=04&version=4&temporal[]=2020-06-19T00:00:00,2020-06-20T00:00:00&polygon[]=10.078302880815441,81.817809200106,10.512323997285574,81.89034790835252,10.636753149555467,81.9838464717769,10.408064655537508,82.07352694485158,9.878747549516635,82.13485973955459,9.1925222962977,82.15062045169547,8.544241862012756,82.11632240869798,8.11617137324634,82.04169749713458,8.020321719821991,81.94751873980789,8.27166097082281,81.8592435441352,8.795052842963516,81.79999741914631,9.452676702124208,81.78491763339973,10.078302880815441,81.817809200106\n",
      "\n",
      "Found 1 matches.\n",
      "{'feed': {'updated': '2021-05-26T22:33:48.776Z', 'id': 'https://cmr.earthdata.nasa.gov:443/search/granules.json?provider=NSIDC_ECS&sort_key[]=start_date&sort_key[]=producer_granule_id&scroll=true&page_size=2000&short_name=ATL03&version=004&version=04&version=4&temporal[]=2020-06-19T00:00:00,2020-06-20T00:00:00&polygon[]=10.078302880815441,81.817809200106,10.512323997285574,81.89034790835252,10.636753149555467,81.9838464717769,10.408064655537508,82.07352694485158,9.878747549516635,82.13485973955459,9.1925222962977,82.15062045169547,8.544241862012756,82.11632240869798,8.11617137324634,82.04169749713458,8.020321719821991,81.94751873980789,8.27166097082281,81.8592435441352,8.795052842963516,81.79999741914631,9.452676702124208,81.78491763339973,10.078302880815441,81.817809200106', 'title': 'ECHO granule metadata', 'entry': []}}\n"
     ]
    }
   ],
   "source": [
    "product = 'ATL03'\n",
    "version = '004'\n",
    "\n",
    "search_date = dt.datetime(2020, 6, 19, 12, 0, 0)\n",
    "start_date, end_date = search_date - dt.timedelta(hours=12), search_date + dt.timedelta(hours=12)\n",
    "search_polygon = '10.078302880815441,81.817809200106,10.512323997285574,81.89034790835252,10.636753149555467,81.9838464717769,10.408064655537508,82.07352694485158,9.878747549516635,82.13485973955459,9.1925222962977,82.15062045169547,8.544241862012756,82.11632240869798,8.11617137324634,82.04169749713458,8.020321719821991,81.94751873980789,8.27166097082281,81.8592435441352,8.795052842963516,81.79999741914631,9.452676702124208,81.78491763339973,10.078302880815441,81.817809200106'\n",
    "\n",
    "results = cmr.cmr_search(\n",
    "    product, \n",
    "    version, \n",
    "    start_date.isoformat(),  # CMR API expects iso format date strings\n",
    "    end_date.isoformat(), \n",
    "    polygon=search_polygon,\n",
    "    verbose=True,\n",
    "    return_search_page=True,\n",
    "    )\n",
    "print(results)"
   ]
  },
  {
   "cell_type": "code",
   "execution_count": 15,
   "metadata": {},
   "outputs": [
    {
     "name": "stdout",
     "output_type": "stream",
     "text": [
      "[]\n"
     ]
    }
   ],
   "source": [
    "entries = [e['links']\n",
    "               for e in results['feed']['entry']\n",
    "               if 'links' in e]\n",
    "print(entries)"
   ]
  },
  {
   "cell_type": "code",
   "execution_count": null,
   "metadata": {},
   "outputs": [],
   "source": []
  }
 ],
 "metadata": {
  "kernelspec": {
   "display_name": "Python 3",
   "language": "python",
   "name": "python3"
  },
  "language_info": {
   "codemirror_mode": {
    "name": "ipython",
    "version": 3
   },
   "file_extension": ".py",
   "mimetype": "text/x-python",
   "name": "python",
   "nbconvert_exporter": "python",
   "pygments_lexer": "ipython3",
   "version": "3.7.8"
  }
 },
 "nbformat": 4,
 "nbformat_minor": 4
}
