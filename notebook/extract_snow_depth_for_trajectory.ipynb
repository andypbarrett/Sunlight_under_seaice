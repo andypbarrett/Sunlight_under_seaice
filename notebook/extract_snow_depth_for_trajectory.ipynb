{
 "cells": [
  {
   "cell_type": "markdown",
   "metadata": {},
   "source": [
    "# Extract snow depth along a trajectory __UNDER CONSTRUCTION__\n",
    "\n",
    "## Load sea ice trajectory\n",
    "I use an icetrack extracted using the [NSIDC ice tracking tool](http://icemotion.labs.nsidc.org/SITU/#).  The tool outputs a csv file.  This is easily read using `pandas`.  I want a dataframe indexed by date.  I use `parse_dates={'time': ['year','month','day'}` and `index_col='time'` to create a date index.  I only need latitude and longitude so I use `usecols` to extract latitude and longitude.  However, because `year`, `month` and `day` are used to generate the date index, these columns must be included in usecols."
   ]
  },
  {
   "cell_type": "code",
   "execution_count": 1,
   "metadata": {},
   "outputs": [],
   "source": [
    "import os\n",
    "import sys\n",
    "sys.path.append(\"../sunlight\")  # Add `sunlight` to $PYTHONPATH\n",
    "\n",
    "import cartopy.crs as ccrs\n",
    "import matplotlib.pyplot as plt\n",
    "\n",
    "from readers.snowmodel import read as read_snowmodel\n",
    "\n",
    "import pandas as pd"
   ]
  },
  {
   "cell_type": "code",
   "execution_count": null,
   "metadata": {},
   "outputs": [],
   "source": [
    "trackfile = '../Data/icetracks.20040403.csv'\n",
    "df = pd.read_csv(trackfile, header=0, parse_dates={'time': ['year', 'month', 'day']}, index_col='time', usecols=['lat', 'lon', 'year', 'month', 'day'])\n",
    "df.head()"
   ]
  },
  {
   "cell_type": "markdown",
   "metadata": {},
   "source": [
    "The snow depth data are on a grid in the NSIDC EASE-Grid projection.  So the latitude and longitude coordinates need to be transformed to projected `(x,y)` coordinates.  `cartopy.crs.Projection` classes have a `transform_points` method that can do this easily.  \n",
    "\n",
    "Not a link to the EASE-Grid but includes info about the grid https://nsidc.org/data/nsidc-0116\n",
    "\n",
    "Information about EASE-Grid is available [here](https://nsidc.org/data/ease)"
   ]
  },
  {
   "cell_type": "code",
   "execution_count": null,
   "metadata": {},
   "outputs": [],
   "source": [
    "SphericalEarth = ccrs.Globe(semimajor_axis=6371228., semiminor_axis=6371228.)\n",
    "NSIDC_EASE = ccrs.LambertAzimuthalEqualArea(central_latitude=90., central_longitude=0., globe=SphericalEarth)\n",
    "\n",
    "xyz = NSIDC_EASE.transform_points(ccrs.PlateCarree(), df.lon.values, df.lat.values)\n",
    "x = xyz[:,0]\n",
    "y = xyz[:,1]"
   ]
  },
  {
   "cell_type": "markdown",
   "metadata": {},
   "source": [
    "## Load snow depth"
   ]
  },
  {
   "cell_type": "code",
   "execution_count": null,
   "metadata": {},
   "outputs": [],
   "source": [
    "DATAPATH = os.path.join(os.path.sep, \"home\", \"apbarret\", \"Data\", \"Snow_on_seaice\", \"SnowModelOutput\")\n",
    "datafile = os.path.join(DATAPATH, \"MERRA2\", \"snod.gdat\")\n",
    "ctlfile = os.path.join(DATAPATH, \"MERRA2\", \"SM_snod_merra2_01Aug1980-31Jul2018.ctl\")\n",
    "#datafile = os.path.join(DATAPATH, \"ERA5\", snod.gdat\")\n",
    "#ctlfile = os.path.join(DATAPATH, \"ERA5\", SM_snod_era5_01Aug1980-31Jul2018.ctl\")\n",
    "\n",
    "snowDepth = read_snowmodel(datafile, ctlfile)\n",
    "snowDepth"
   ]
  },
  {
   "cell_type": "code",
   "execution_count": null,
   "metadata": {},
   "outputs": [],
   "source": [
    "fig = plt.figure(figsize=(7, 7))\n",
    "ax = fig.add_subplot(111, projection=NSIDC_EASE)\n",
    "ax.set_extent([-4524683.8, 4524683.8, -4524683.8, 4524683.8], NSIDC_EASE)\n",
    "ax.coastlines()\n",
    "ax.gridlines()\n",
    "snowDepth.sel(time=\"2010-0\")\n",
    "ax.plot(x, y, transform=NSIDC_NorthPolarStereo)\n",
    "ax.plot(df.lon.values, df.lat.values, transform=ccrs.PlateCarree())"
   ]
  },
  {
   "cell_type": "markdown",
   "metadata": {},
   "source": [
    "The data are weekly and need to be interpolated to daily to extract the data.  __TBD__"
   ]
  }
 ],
 "metadata": {
  "kernelspec": {
   "display_name": "Python 3",
   "language": "python",
   "name": "python3"
  },
  "language_info": {
   "codemirror_mode": {
    "name": "ipython",
    "version": 3
   },
   "file_extension": ".py",
   "mimetype": "text/x-python",
   "name": "python",
   "nbconvert_exporter": "python",
   "pygments_lexer": "ipython3",
   "version": "3.7.6"
  }
 },
 "nbformat": 4,
 "nbformat_minor": 4
}
