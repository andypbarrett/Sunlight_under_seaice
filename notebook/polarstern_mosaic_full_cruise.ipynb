{
 "cells": [
  {
   "cell_type": "code",
   "execution_count": 1,
   "metadata": {},
   "outputs": [],
   "source": [
    "import sys\n",
    "sys.path.append(\"/home/apbarret/src/SunlightUnderSeaIce/sunderseaice\")  # Allow import of modules for sunderseaice\n",
    "sys.path.append(\"/home/apbarret/src/nsidc_projections/nsidc_projections\")\n",
    "\n",
    "import os\n",
    "import datetime as dt\n",
    "import warnings\n",
    "from pathlib import Path\n",
    "\n",
    "import numpy as np\n",
    "import pandas as pd\n",
    "import geopandas as gpd\n",
    "from shapely.geometry import Point, LinearRing, Polygon\n",
    "from shapely.geometry.polygon import orient\n",
    "from pyproj import Transformer\n",
    "\n",
    "import cartopy.crs as ccrs\n",
    "import cartopy.feature as cfeature\n",
    "import matplotlib.pyplot as plt\n",
    "\n",
    "import h5py\n",
    "import xarray as xr\n",
    "\n",
    "import download.nsidc_download as cmr\n",
    "from download.icesat2_search import read_polarstern_track, select_midday, POLARSTERN_TRACK_FILE\n",
    "from grid import SSMI_PolarStereoNorth25km \n",
    "\n",
    "DATAPATH = '/home/apbarret/src/SunlightUnderSeaIce/data'\n",
    "\n",
    "with warnings.catch_warnings():\n",
    "    warnings.filterwarnings(\"ignore\")\n",
    "    map_proj = SSMI_PolarStereoNorth25km.to_cartopy()\n",
    "map_extent = [-2349878.8355433852, 2349878.8355433857, -2349878.8355433852, 2349878.8355433857]"
   ]
  },
  {
   "cell_type": "code",
   "execution_count": 2,
   "metadata": {},
   "outputs": [],
   "source": [
    "from collections import namedtuple\n",
    "MosaicFloe = namedtuple(\"FloeDates\", ['start', 'end'])\n",
    "floe1 = MosaicFloe(dt.datetime(2019, 10, 4), dt.datetime(2020, 5, 17))\n",
    "floe2 = MosaicFloe(dt.datetime(2020, 6, 19), dt.datetime(2020, 7, 31))\n",
    "floe3 = MosaicFloe(dt.datetime(2020, 8, 21), dt.datetime(2020, 9, 20))"
   ]
  },
  {
   "cell_type": "code",
   "execution_count": 3,
   "metadata": {},
   "outputs": [],
   "source": [
    "transformer_fwd = Transformer.from_crs(4326, SSMI_PolarStereoNorth25km.epsg, always_xy=True)\n",
    "transformer_inv = Transformer.from_crs(SSMI_PolarStereoNorth25km.epsg, 4326, always_xy=True)\n",
    "\n",
    "def pandas_to_geopandas(df, crs=\"EPSG:4326\"):\n",
    "    \"\"\"Returns a geopandas dataseries\"\"\"\n",
    "    geometry = [Point(xy) for xy in zip(df.Longitude, df.Latitude)]\n",
    "    return gpd.GeoSeries(geometry, index=df.index, crs=crs)\n",
    "\n",
    "def buffer_point(lon, lat, buffer_radius=20000., resolution=3):\n",
    "    \"\"\"Returns a correctly orientated buffer polygon around a point\n",
    "    \n",
    "    point - a tuple containing (longitude, latitude) pair\"\"\"\n",
    "    projected_point = Point(transformer_fwd.transform(lon, lat))\n",
    "    projected_poly = projected_point.buffer(buffer_radius, resolution)\n",
    "    poly = Polygon(transformer_inv.itransform(projected_poly.exterior.coords))\n",
    "    poly_ccw = orient(poly, sign=1.0)\n",
    "    return poly\n",
    "\n",
    "\n",
    "def shapely_to_cmr(poly):\n",
    "    \"\"\"Converts shapely polygon to string containing lon, lat\n",
    "       expected by CMR.  CMR expects coordinates to be counter-\n",
    "       clockwise.  Code automatically reverses this\"\"\"\n",
    "    poly_ccw = orient(poly, sign=1.0)\n",
    "    assert LinearRing(poly_ccw.exterior.coords).is_ccw, \"Polygon is not counter-clockwise\"\n",
    "    return \",\".join([f\"{x},{y}\" for x, y in poly_ccw.exterior.coords])\n",
    "\n",
    "\n",
    "class Trajectory(pd.DataFrame):\n",
    "    @property\n",
    "    def _constructor(self):\n",
    "        return Trajectory\n",
    "    \n",
    "    def midday(self):\n",
    "        \"\"\"Returns 1200 (midday) position\"\"\" \n",
    "        return self[(self.index.hour == 12) & (self.index.minute == 0)]\n",
    "    \n",
    "    def to_cmr_query(self):\n",
    "        \"\"\"Returns list of tuples containing date and buffer for cmr search\"\"\"\n",
    "        pass\n",
    "    \n",
    "    def get_buffer(self):\n",
    "        \"\"\"Adds a buffer polygon object as a column\"\"\"\n",
    "        self[\"buffer\"] = [buffer_point(lon, lat) for lon, lat in zip(df.Longitude, df.Latitude)]\n",
    "\n",
    "    def get_cmr_query(self):\n",
    "        \"\"\"Returns tuple of search date and polygon vertices as string\"\"\"\n",
    "        return [(index, shapely_to_cmr(poly)) for index, poly in self.buffer.iteritems()]\n"
   ]
  },
  {
   "cell_type": "code",
   "execution_count": 4,
   "metadata": {},
   "outputs": [
    {
     "data": {
      "text/html": [
       "<div>\n",
       "<style scoped>\n",
       "    .dataframe tbody tr th:only-of-type {\n",
       "        vertical-align: middle;\n",
       "    }\n",
       "\n",
       "    .dataframe tbody tr th {\n",
       "        vertical-align: top;\n",
       "    }\n",
       "\n",
       "    .dataframe thead th {\n",
       "        text-align: right;\n",
       "    }\n",
       "</style>\n",
       "<table border=\"1\" class=\"dataframe\">\n",
       "  <thead>\n",
       "    <tr style=\"text-align: right;\">\n",
       "      <th></th>\n",
       "      <th>Latitude</th>\n",
       "      <th>Longitude</th>\n",
       "      <th>Speed</th>\n",
       "      <th>Course</th>\n",
       "      <th>geometry</th>\n",
       "    </tr>\n",
       "    <tr>\n",
       "      <th>Date</th>\n",
       "      <th></th>\n",
       "      <th></th>\n",
       "      <th></th>\n",
       "      <th></th>\n",
       "      <th></th>\n",
       "    </tr>\n",
       "  </thead>\n",
       "  <tbody>\n",
       "    <tr>\n",
       "      <th>2020-06-19 12:00:00</th>\n",
       "      <td>82.02769</td>\n",
       "      <td>8.74251</td>\n",
       "      <td>0.217</td>\n",
       "      <td>84.5</td>\n",
       "      <td>POLYGON ((9.51163 81.87879, 8.88366 81.84501, ...</td>\n",
       "    </tr>\n",
       "    <tr>\n",
       "      <th>2020-06-20 12:00:00</th>\n",
       "      <td>82.02692</td>\n",
       "      <td>9.15124</td>\n",
       "      <td>0.205</td>\n",
       "      <td>199.4</td>\n",
       "      <td>POLYGON ((9.91271 81.87726, 9.28319 81.84411, ...</td>\n",
       "    </tr>\n",
       "    <tr>\n",
       "      <th>2020-06-21 12:00:00</th>\n",
       "      <td>81.98196</td>\n",
       "      <td>9.18758</td>\n",
       "      <td>0.351</td>\n",
       "      <td>209.5</td>\n",
       "      <td>POLYGON ((9.94418 81.83225, 9.31799 81.79915, ...</td>\n",
       "    </tr>\n",
       "    <tr>\n",
       "      <th>2020-06-22 12:00:00</th>\n",
       "      <td>81.96777</td>\n",
       "      <td>9.32557</td>\n",
       "      <td>0.237</td>\n",
       "      <td>222.7</td>\n",
       "      <td>POLYGON ((10.07830 81.81781, 9.45268 81.78492,...</td>\n",
       "    </tr>\n",
       "    <tr>\n",
       "      <th>2020-06-23 12:00:00</th>\n",
       "      <td>81.99867</td>\n",
       "      <td>9.69658</td>\n",
       "      <td>0.223</td>\n",
       "      <td>192.6</td>\n",
       "      <td>POLYGON ((10.44528 81.84802, 9.81585 81.81570,...</td>\n",
       "    </tr>\n",
       "  </tbody>\n",
       "</table>\n",
       "</div>"
      ],
      "text/plain": [
       "                     Latitude  Longitude  Speed  Course  \\\n",
       "Date                                                      \n",
       "2020-06-19 12:00:00  82.02769    8.74251  0.217    84.5   \n",
       "2020-06-20 12:00:00  82.02692    9.15124  0.205   199.4   \n",
       "2020-06-21 12:00:00  81.98196    9.18758  0.351   209.5   \n",
       "2020-06-22 12:00:00  81.96777    9.32557  0.237   222.7   \n",
       "2020-06-23 12:00:00  81.99867    9.69658  0.223   192.6   \n",
       "\n",
       "                                                              geometry  \n",
       "Date                                                                    \n",
       "2020-06-19 12:00:00  POLYGON ((9.51163 81.87879, 8.88366 81.84501, ...  \n",
       "2020-06-20 12:00:00  POLYGON ((9.91271 81.87726, 9.28319 81.84411, ...  \n",
       "2020-06-21 12:00:00  POLYGON ((9.94418 81.83225, 9.31799 81.79915, ...  \n",
       "2020-06-22 12:00:00  POLYGON ((10.07830 81.81781, 9.45268 81.78492,...  \n",
       "2020-06-23 12:00:00  POLYGON ((10.44528 81.84802, 9.81585 81.81570,...  "
      ]
     },
     "execution_count": 4,
     "metadata": {},
     "output_type": "execute_result"
    }
   ],
   "source": [
    "df = read_polarstern_track()\n",
    "gdf = gpd.GeoDataFrame(df, geometry=gpd.points_from_xy(df.Longitude, df.Latitude), crs=\"EPSG:4326\")\n",
    "gdf = gdf.to_crs(SSMI_PolarStereoNorth25km.epsg)  # Buffers need to be calculated in projected coordinates, convert to NSIDC PolarSterographc\n",
    "gdf.loc[:, \"geometry\"] = gdf.geometry.buffer(20000., 3)  # Generate a buffer polygon\n",
    "gdf = gdf.to_crs(4326)  #  Set back to lon-lat WGS84\n",
    "\n",
    "gdf = gdf[floe2.start:floe2.end]  # Focus on floe2 \n",
    "gdf_midday = gdf[(gdf.index.hour == 12) & (gdf.index.minute == 0)].copy()  # To avoid updating a view of gdf\n",
    "\n",
    "gdf_midday.head()"
   ]
  },
  {
   "cell_type": "code",
   "execution_count": 5,
   "metadata": {},
   "outputs": [
    {
     "data": {
      "text/plain": [
       "'10.078302880815441,81.817809200106,10.512323997285574,81.89034790835252,10.636753149555467,81.9838464717769,10.408064655537508,82.07352694485158,9.878747549516635,82.13485973955459,9.1925222962977,82.15062045169547,8.544241862012756,82.11632240869798,8.11617137324634,82.04169749713458,8.020321719821991,81.94751873980789,8.27166097082281,81.8592435441352,8.795052842963516,81.79999741914631,9.452676702124208,81.78491763339973,10.078302880815441,81.817809200106'"
      ]
     },
     "execution_count": 5,
     "metadata": {},
     "output_type": "execute_result"
    }
   ],
   "source": [
    "shapely_to_cmr(gdf_midday.iloc[3,:].geometry)"
   ]
  },
  {
   "cell_type": "code",
   "execution_count": 6,
   "metadata": {},
   "outputs": [],
   "source": [
    "product = 'ATL03'\n",
    "version = '004'\n",
    "\n",
    "assert gdf_midday.crs == \"EPSG:4326\", \"Expects CRS is WGS84 (EPSG:4326), convert using to_crs(4326) method\"\n",
    "\n",
    "#big_list_of_granules = []\n",
    "gdf_midday[\"granule\"] = None\n",
    "gdf_midday[\"metadata\"] = None\n",
    "for search_date, items in gdf_midday.iterrows():\n",
    "    start_date, end_date = search_date - dt.timedelta(hours=12), search_date + dt.timedelta(hours=12)\n",
    "    results = cmr.cmr_search(\n",
    "        product, \n",
    "        version, \n",
    "        start_date.isoformat(),  # CMR API expects iso format date strings\n",
    "        end_date.isoformat(), \n",
    "        polygon=shapely_to_cmr(items.geometry),\n",
    "        verbose=False,\n",
    "    )\n",
    "    if not results:\n",
    "        continue\n",
    "    if len(results) > 2:\n",
    "        raise ValueError(\"More than one value returned by search\")\n",
    "    if results[0].endswith('.h5'):\n",
    "        gdf_midday.loc[search_date, \"granule\"] = results[0]\n",
    "    else:\n",
    "        raise ValueError(f\"Expects first result to be path to HDF5 (.h5) got {results[0]}\")\n",
    "    if results[1].endswith('.xml'):\n",
    "        gdf_midday.loc[search_date, \"metadata\"] = results[1]\n",
    "    else:\n",
    "        raise ValueError(f\"Expects second result to be metadata (.xml) got {results[1]}\")\n"
   ]
  },
  {
   "cell_type": "code",
   "execution_count": 7,
   "metadata": {},
   "outputs": [],
   "source": [
    "gdf_midday = gdf_midday.dropna()\n",
    "gdf_midday.to_csv(\"mosaic_polarstern_floe2_icesat2_granules.csv\", columns=[\"Latitude\", \"Longitude\", \"granule\", \"metadata\"])"
   ]
  },
  {
   "cell_type": "code",
   "execution_count": 12,
   "metadata": {},
   "outputs": [
    {
     "name": "stdout",
     "output_type": "stream",
     "text": [
      "2020-07-04 12:00:00,81.70845,6.70453,https://n5eil01u.ecs.nsidc.org/DP9/ATLAS/ATL03.004/2020.07.04/ATL03_20200704080254_01370804_004_01.h5,https://n5eil01u.ecs.nsidc.org/DP9/ATLAS/ATL03.004/2020.07.04/ATL03_20200704080254_01370804_004_01.iso.xml\n",
      "2020-07-05 12:00:00,81.69782,6.24978,https://n5eil01u.ecs.nsidc.org/DP9/ATLAS/ATL03.004/2020.07.05/ATL03_20200705214551_01610804_004_01.h5,https://n5eil01u.ecs.nsidc.org/DP9/ATLAS/ATL03.004/2020.07.05/ATL03_20200705214551_01610804_004_01.iso.xml\n",
      "2020-07-08 12:00:00,81.59656,3.25034,https://n5eil01u.ecs.nsidc.org/DP9/ATLAS/ATL03.004/2020.07.08/ATL03_20200708220310_02070804_004_01.h5,https://n5eil01u.ecs.nsidc.org/DP9/ATLAS/ATL03.004/2020.07.08/ATL03_20200708220310_02070804_004_01.iso.xml\n",
      "2020-07-11 12:00:00,81.4458,1.53678,https://n5eil01u.ecs.nsidc.org/DP9/ATLAS/ATL03.004/2020.07.11/ATL03_20200711081154_02440804_004_01.h5,https://n5eil01u.ecs.nsidc.org/DP9/ATLAS/ATL03.004/2020.07.11/ATL03_20200711081154_02440804_004_01.iso.xml\n",
      "2020-07-12 12:00:00,81.44365,0.49066000000000004,https://n5eil01u.ecs.nsidc.org/DP9/ATLAS/ATL03.004/2020.07.12/ATL03_20200712215452_02680804_004_01.h5,https://n5eil01u.ecs.nsidc.org/DP9/ATLAS/ATL03.004/2020.07.12/ATL03_20200712215452_02680804_004_01.iso.xml\n",
      "2020-07-15 12:00:00,81.29746,0.32034,https://n5eil01u.ecs.nsidc.org/DP9/ATLAS/ATL03.004/2020.07.15/ATL03_20200715080337_03050804_004_01.h5,https://n5eil01u.ecs.nsidc.org/DP9/ATLAS/ATL03.004/2020.07.15/ATL03_20200715080337_03050804_004_01.iso.xml\n",
      "2020-07-16 12:00:00,81.22752,0.28859,https://n5eil01u.ecs.nsidc.org/DP9/ATLAS/ATL03.004/2020.07.16/ATL03_20200716214634_03290804_004_01.h5,https://n5eil01u.ecs.nsidc.org/DP9/ATLAS/ATL03.004/2020.07.16/ATL03_20200716214634_03290804_004_01.iso.xml\n",
      "2020-07-19 12:00:00,80.88729000000001,-0.17386,https://n5eil01u.ecs.nsidc.org/DP9/ATLAS/ATL03.004/2020.07.19/ATL03_20200719075518_03660804_004_01.h5,https://n5eil01u.ecs.nsidc.org/DP9/ATLAS/ATL03.004/2020.07.19/ATL03_20200719075518_03660804_004_01.iso.xml\n",
      "2020-07-20 12:00:00,80.75365,-0.5036,https://n5eil01u.ecs.nsidc.org/DP9/ATLAS/ATL03.004/2020.07.20/ATL03_20200720213815_03900804_004_01.h5,https://n5eil01u.ecs.nsidc.org/DP9/ATLAS/ATL03.004/2020.07.20/ATL03_20200720213815_03900804_004_01.iso.xml\n",
      "2020-07-23 12:00:00,80.34638000000001,-0.6428699999999999,https://n5eil01u.ecs.nsidc.org/DP9/ATLAS/ATL03.004/2020.07.23/ATL03_20200723074658_04270804_004_01.h5,https://n5eil01u.ecs.nsidc.org/DP9/ATLAS/ATL03.004/2020.07.23/ATL03_20200723074658_04270804_004_01.iso.xml\n"
     ]
    }
   ],
   "source": [
    "!tail mosaic_polarstern_floe2_icesat2_granules.csv"
   ]
  },
  {
   "cell_type": "markdown",
   "metadata": {},
   "source": [
    "## Download data using CMR"
   ]
  },
  {
   "cell_type": "code",
   "execution_count": null,
   "metadata": {},
   "outputs": [],
   "source": []
  },
  {
   "cell_type": "code",
   "execution_count": null,
   "metadata": {},
   "outputs": [],
   "source": [
    "!head /home/apbarret/src/SunlightUnderSeaIce/data/polarstern_track_full_cruise.txt"
   ]
  },
  {
   "cell_type": "code",
   "execution_count": null,
   "metadata": {},
   "outputs": [],
   "source": [
    "gdf = pandas_to_geopandas(df)\n",
    "gdf = gdf.to_crs(SSMI_PolarStereoNorth25km.epsg) \n",
    "gdf"
   ]
  },
  {
   "cell_type": "code",
   "execution_count": null,
   "metadata": {},
   "outputs": [],
   "source": [
    "fig = plt.figure(figsize=(7,7))\n",
    "\n",
    "ax = fig.add_subplot(projection=map_proj)\n",
    "ax.set_extent(map_extent, crs=map_proj)\n",
    "ax.add_feature(cfeature.LAND, facecolor='0.5')\n",
    "gdf.plot(ax=ax, markersize=5)"
   ]
  },
  {
   "cell_type": "code",
   "execution_count": null,
   "metadata": {},
   "outputs": [],
   "source": [
    "fig = plt.figure(figsize=(7,7))\n",
    "\n",
    "ax = fig.add_subplot(projection=map_proj)\n",
    "ax.set_extent(map_extent, crs=map_proj)\n",
    "ax.add_feature(cfeature.LAND, facecolor='0.5')\n",
    "\n",
    "gdf[start_leg01.strftime(\"%Y-%m-%d\"):end_leg01.strftime(\"%Y-%m-%d\")].plot(ax=ax, markersize=5, label=\"Floe 1\")\n",
    "gdf[start_leg02.strftime(\"%Y-%m-%d\"):end_leg02.strftime(\"%Y-%m-%d\")].plot(ax=ax, markersize=5, color='red', label=\"Floe 2\")\n",
    "gdf[start_leg03.strftime(\"%Y-%m-%d\"):end_leg03.strftime(\"%Y-%m-%d\")].plot(ax=ax, markersize=5, color='green', label=\"Floe 3\")"
   ]
  },
  {
   "cell_type": "code",
   "execution_count": null,
   "metadata": {},
   "outputs": [],
   "source": [
    "floe02 = gdf[start_leg02.strftime(\"%Y-%m-%d\"):end_leg02.strftime(\"%Y-%m-%d\")]\n",
    "floe02_midday = floe02[(floe02.index.hour == 12) & (floe02.index.minute == 0)]\n",
    "floe02_midday.head()"
   ]
  },
  {
   "cell_type": "markdown",
   "metadata": {},
   "source": [
    "## Create buffers\n",
    "Buffers have to be calculated in projected coordinates.  They are then converted to latitude-longitude in WGS84 (EPSG:4326)"
   ]
  },
  {
   "cell_type": "code",
   "execution_count": null,
   "metadata": {},
   "outputs": [],
   "source": [
    "buffer_radius = 20000.  # in metres\n",
    "polygon_resolution = 3\n",
    "search_buffers = floe02_midday.buffer(buffer_radius, polygon_resolution).to_crs(4326)\n",
    "search_buffers.head()"
   ]
  },
  {
   "cell_type": "code",
   "execution_count": null,
   "metadata": {},
   "outputs": [],
   "source": [
    "product = 'ATL10'\n",
    "version = '004'\n",
    "\n",
    "assert search_buffers.crs == \"EPSG:4326\", \"Expects CRS is WGS84 (EPSG:4326), convert using to_crs(4326) method\"\n",
    "\n",
    "big_list_of_granules = []\n",
    "for search_date, polygon in search_buffers.iteritems():\n",
    "    start_date, end_date = search_date - dt.timedelta(hours=12), search_date + dt.timedelta(hours=12)\n",
    "    results = cmr.cmr_search(\n",
    "        product, \n",
    "        version, \n",
    "        start_date.isoformat(),  # CMR API expects iso format date strings\n",
    "        end_date.isoformat(), \n",
    "        polygon=shapely_to_cmr(polygon),\n",
    "        )\n",
    "    big_list_of_granules = big_list_of_granules + results\n",
    "    \n",
    "for g in big_list_of_granules:\n",
    "    print(g)"
   ]
  },
  {
   "cell_type": "code",
   "execution_count": null,
   "metadata": {},
   "outputs": [],
   "source": [
    "cmr.cmr_download(big_list_of_granules, outpath='/media/apbarret/andypbarrett_work/Data/ICESat-2/ATL10')"
   ]
  },
  {
   "cell_type": "code",
   "execution_count": null,
   "metadata": {},
   "outputs": [],
   "source": [
    "ls -ltr /media/apbarret/andypbarrett_work/Data/ICESat-2/ATL10 | tail"
   ]
  },
  {
   "cell_type": "code",
   "execution_count": null,
   "metadata": {},
   "outputs": [],
   "source": [
    "from readers import icesat2"
   ]
  },
  {
   "cell_type": "code",
   "execution_count": null,
   "metadata": {},
   "outputs": [],
   "source": [
    "ICESAT2_PATH = Path(\"/media/apbarret/andypbarrett_work/Data/ICESat-2/ATL10\")\n",
    "h5files = ICESAT2_PATH.glob(\"ATL10-01_20200[67]*.h5\")\n",
    "tlat = []\n",
    "tlon = []\n",
    "name = []\n",
    "for f in h5files:\n",
    "    ds = icesat2.atl10(f)\n",
    "    ds = ds.where(ds.freeboard < 3.e38).dropna(dim='x')\n",
    "    name.append(f.name)\n",
    "    tlat.append(ds.latitude.values)\n",
    "    tlon.append(ds.longitude.values)"
   ]
  },
  {
   "cell_type": "code",
   "execution_count": null,
   "metadata": {},
   "outputs": [],
   "source": [
    "x0, y0 = map_proj.transform_point(-34., 87., ccrs.PlateCarree())\n",
    "x1, y1 = map_proj.transform_point(7., 73., ccrs.PlateCarree())\n",
    "[x0, x1, y0, y1]"
   ]
  },
  {
   "cell_type": "code",
   "execution_count": null,
   "metadata": {},
   "outputs": [],
   "source": [
    "floe2_extent = [x0, x1, y0, y1]\n",
    "\n",
    "fig = plt.figure(figsize=(10,7))\n",
    "\n",
    "ax = fig.add_subplot(projection=map_proj)\n",
    "ax.set_extent(floe2_extent, crs=map_proj)\n",
    "#ax.set_extent(map_extent, crs=map_proj)\n",
    "ax.add_feature(cfeature.LAND, facecolor='0.5')\n",
    "ax.gridlines()\n",
    "\n",
    "gdf[start_leg02.strftime(\"%Y-%m-%d\"):end_leg02.strftime(\"%Y-%m-%d\")].plot(ax=ax, markersize=5, color='red', label=\"Polarstern\")\n",
    "\n",
    "for xlat, xlon in zip(tlat, tlon):\n",
    "    pts = map_proj.transform_points(ccrs.PlateCarree(), xlon[::1000], xlat[::1000])\n",
    "    x = pts[:, 0]\n",
    "    y = pts[:, 1]\n",
    "    ax.plot(x, y, 'k-', transform=map_proj)\n",
    "\n",
    "ax.set_title(\"ICESat-2 tracks coincident with Polarstern Drift\")\n",
    "\n",
    "#ax.plot(tlon[id][::1000], tlat[id][::1000], 'k-', transform=ccrs.PlateCarree())\n",
    "ax.legend()\n",
    "\n",
    "fig.savefig(\"icesat2_tracks_with_polarstern_floe2.png\")"
   ]
  },
  {
   "cell_type": "code",
   "execution_count": null,
   "metadata": {},
   "outputs": [],
   "source": [
    "for xlat, xlon in zip(tlat, tlon):\n",
    "    print(xlat.min(), xlat.max())\n",
    "    print(xlon.min(), xlon.max())"
   ]
  },
  {
   "cell_type": "code",
   "execution_count": null,
   "metadata": {},
   "outputs": [],
   "source": []
  }
 ],
 "metadata": {
  "kernelspec": {
   "display_name": "Python 3",
   "language": "python",
   "name": "python3"
  },
  "language_info": {
   "codemirror_mode": {
    "name": "ipython",
    "version": 3
   },
   "file_extension": ".py",
   "mimetype": "text/x-python",
   "name": "python",
   "nbconvert_exporter": "python",
   "pygments_lexer": "ipython3",
   "version": "3.7.8"
  }
 },
 "nbformat": 4,
 "nbformat_minor": 4
}
